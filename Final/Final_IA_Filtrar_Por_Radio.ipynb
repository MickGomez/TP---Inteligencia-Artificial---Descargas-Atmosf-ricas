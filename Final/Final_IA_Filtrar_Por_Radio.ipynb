{
  "nbformat": 4,
  "nbformat_minor": 0,
  "metadata": {
    "colab": {
      "provenance": []
    },
    "kernelspec": {
      "name": "python3",
      "display_name": "Python 3"
    },
    "language_info": {
      "name": "python"
    }
  },
  "cells": [
    {
      "cell_type": "code",
      "execution_count": null,
      "metadata": {
        "id": "JMhbbXM4rWrc"
      },
      "outputs": [],
      "source": [
        "import pandas as pd\n",
        "import geopandas as gpd\n",
        "from shapely.geometry import Point\n",
        "import os"
      ]
    },
    {
      "cell_type": "code",
      "source": [
        "def crear_buffer(lat, lon, radio_km, resolution=32):\n",
        "    punto = Point(lon, lat)\n",
        "    return punto.buffer((radio_km + 1.2) / 111, resolution=resolution)\n",
        "\n",
        "def filtrar_datos(df, buffer):\n",
        "    # df = df.copy()\n",
        "        # Convertir las columnas de longitud y latitud a float\n",
        "    df['longitude'] = pd.to_numeric(df['longitude'], errors='coerce')\n",
        "    df['latitude'] = pd.to_numeric(df['latitude'], errors='coerce')\n",
        "        # Filtrar los datos dentro del buffer\n",
        "    gdf = gpd.GeoDataFrame(df, geometry=gpd.points_from_xy(df.longitude, df.latitude))\n",
        "    return gdf[gdf.geometry.within(buffer)]\n"
      ],
      "metadata": {
        "id": "uK2yNCgxrpuj"
      },
      "execution_count": null,
      "outputs": []
    },
    {
      "cell_type": "code",
      "source": [
        "\n",
        "# Ubicaciones de interés y radio\n",
        "ubicaciones = {\n",
        "     'Asuncion': (-25.301478, -57.536707),\n",
        "    #'Central': (-25.5628115, -57.5079912),\n",
        "    # 'Ñeembucu': (-26.648707, -58.107135),\n",
        "    # 'Concepcion': (-23.434573, -57.434246)\n",
        "}\n",
        "radio_km = 25\n",
        "\n",
        "# Rutas y años de interés\n",
        "ruta_base = '/content/drive/MyDrive/2.TPInteligenciaArtificial/Organizado/Anuales/'\n",
        "anios = [\n",
        "      '2016',\n",
        "    #      '2017',\n",
        "    #       '2018',\n",
        "    #       '2019',\n",
        "          # '2020',\n",
        "          #'2021',\n",
        "          # '2022'\n",
        "          ]\n",
        "# anios = [ '2020','2021', '2022']\n"
      ],
      "metadata": {
        "id": "nPybEqxdrruz"
      },
      "execution_count": null,
      "outputs": []
    },
    {
      "cell_type": "code",
      "source": [
        " for anio in anios:\n",
        "  ruta_archivo_anual = os.path.join(ruta_base, f'{anio}.csv')\n",
        "  df_anual=pd.read_csv(ruta_archivo_anual)\n",
        "  if 'timestamp' in df_anual.columns:\n",
        "    df_anual = pd.read_csv(ruta_archivo_anual,parse_dates=True,on_bad_lines='skip')\n",
        "  else:\n",
        "    df_anual = pd.read_csv(ruta_archivo_anual, parse_dates=['LightningTime'], date_format='%Y-%m-%dT%H:%M:%S.%f', on_bad_lines='skip')\n",
        "    df_anual['timestamp']=df_anual['LightningTime']\n",
        "    df_anual.drop(columns=['LightningTime'],inplace=True)\n",
        "  df_anual.set_index('timestamp',inplace=True)\n",
        "\n",
        "  # print(f'{anio}',df_anual['timestamp'])\n",
        "  for ubicacion, coords in ubicaciones.items():\n",
        "      buffer = crear_buffer(coords[0], coords[1], radio_km)\n",
        "      df_filtrado = filtrar_datos(df_anual, buffer)\n",
        "\n",
        "      archivo_salida = os.path.join(ruta_base, f'{anio}_filtrado_{ubicacion}.csv')\n",
        "      df_filtrado.drop(columns=['geometry']).to_csv(archivo_salida, index=True)\n",
        "      # df_filtrado.drop(columns=['Hright',])\n",
        "      print(f\"Archivo filtrado para {ubicacion} del año {anio} guardado en {archivo_salida}\")\n",
        "      print(df_filtrado)"
      ],
      "metadata": {
        "colab": {
          "base_uri": "https://localhost:8080/"
        },
        "id": "x1gCZ9AAr78W",
        "outputId": "6290db78-7c6d-4014-9cd1-d58ce7f4d1d9"
      },
      "execution_count": null,
      "outputs": [
        {
          "output_type": "stream",
          "name": "stdout",
          "text": [
            "Archivo filtrado para Asuncion del año 2016 guardado en /content/drive/MyDrive/2.TPInteligenciaArtificial/Organizado/Anuales/2016_filtrado_Asuncion.csv\n",
            "                               type   latitude  longitude  peakcurrent  \\\n",
            "timestamp                                                                \n",
            "2016-01-01 00:33:35.956890106    40 -25.274600 -57.539900       -12448   \n",
            "2016-01-01 00:33:36.154273987     0 -25.331540 -57.462260        74825   \n",
            "2016-01-01 00:49:14.815330029    40 -25.121400 -57.564400        20092   \n",
            "2016-01-01 01:02:11.518081903    40 -25.204900 -57.573600        15486   \n",
            "2016-01-01 01:14:21.134871006    40 -25.187500 -57.679200       -25255   \n",
            "...                             ...        ...        ...          ...   \n",
            "2016-12-31 11:42:54.062751532     0 -25.136776 -57.687196       -24065   \n",
            "2016-12-31 11:42:54.099242926    40 -25.169600 -57.701800       -13894   \n",
            "2016-12-31 11:42:54.265235662     0 -25.128071 -57.609894       -19307   \n",
            "2016-12-31 11:43:26.413749456     0 -25.131421 -57.678206       -21982   \n",
            "2016-12-31 11:44:06.327212095    40 -25.141800 -57.676200       -28308   \n",
            "\n",
            "                               icheight  numbersensors  majoraxis  minoraxis  \\\n",
            "timestamp                                                                      \n",
            "2016-01-01 00:33:35.956890106         0             13       0.00       0.00   \n",
            "2016-01-01 00:33:36.154273987         0              5       0.71       0.44   \n",
            "2016-01-01 00:49:14.815330029         0              6       0.00       0.00   \n",
            "2016-01-01 01:02:11.518081903         0              5       0.00       0.00   \n",
            "2016-01-01 01:14:21.134871006         0              6       0.00       0.00   \n",
            "...                                 ...            ...        ...        ...   \n",
            "2016-12-31 11:42:54.062751532         0              8       0.60       0.21   \n",
            "2016-12-31 11:42:54.099242926         0              8       0.00       0.00   \n",
            "2016-12-31 11:42:54.265235662         0              7       0.70       0.63   \n",
            "2016-12-31 11:43:26.413749456         0              7       0.53       0.35   \n",
            "2016-12-31 11:44:06.327212095         0              6       0.00       0.00   \n",
            "\n",
            "                               bearing                     geometry  \n",
            "timestamp                                                            \n",
            "2016-01-01 00:33:35.956890106      0.0  POINT (-57.53990 -25.27460)  \n",
            "2016-01-01 00:33:36.154273987    175.8  POINT (-57.46226 -25.33154)  \n",
            "2016-01-01 00:49:14.815330029      0.0  POINT (-57.56440 -25.12140)  \n",
            "2016-01-01 01:02:11.518081903      0.0  POINT (-57.57360 -25.20490)  \n",
            "2016-01-01 01:14:21.134871006      0.0  POINT (-57.67920 -25.18750)  \n",
            "...                                ...                          ...  \n",
            "2016-12-31 11:42:54.062751532    114.4  POINT (-57.68720 -25.13678)  \n",
            "2016-12-31 11:42:54.099242926      0.0  POINT (-57.70180 -25.16960)  \n",
            "2016-12-31 11:42:54.265235662     74.8  POINT (-57.60989 -25.12807)  \n",
            "2016-12-31 11:43:26.413749456    114.5  POINT (-57.67821 -25.13142)  \n",
            "2016-12-31 11:44:06.327212095      0.0  POINT (-57.67620 -25.14180)  \n",
            "\n",
            "[30802 rows x 10 columns]\n"
          ]
        }
      ]
    },
    {
      "cell_type": "code",
      "source": [],
      "metadata": {
        "id": "V5URHIDqsAsc"
      },
      "execution_count": null,
      "outputs": []
    }
  ]
}